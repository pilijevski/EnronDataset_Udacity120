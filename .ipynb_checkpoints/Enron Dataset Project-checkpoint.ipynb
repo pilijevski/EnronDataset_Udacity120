{
 "cells": [
  {
   "cell_type": "markdown",
   "metadata": {},
   "source": [
    "###### By Petar Ilijevski\n"
   ]
  },
  {
   "cell_type": "markdown",
   "metadata": {},
   "source": [
    "## Project overview\n",
    "\n",
    "\n",
    "In 2000, Enron was one of the largest companies in the United States. By 2002, it had collapsed into bankruptcy due to widespread corporate fraud. In the resulting Federal investigation, there was a significant amount of typically confidential information entered into public record, including tens of thousands of emails and detailed financial data for top executives. \n",
    "\n",
    "In this project I will build a person of interest identifier based on financial and email data made public as a result of the Enron scandal. I use email and financial data for 146 executives at Enron to identify persons of interest in the fraud case.  A person of interest (POI) is someone who was indicted for fraud, settled with the government, or testified in exchange for immunity.  This report documents the machine learning techniques used in building a POI identifier.\n",
    "\n",
    "\n",
    "#### Imports"
   ]
  },
  {
   "cell_type": "code",
   "execution_count": 2,
   "metadata": {},
   "outputs": [],
   "source": [
    "import os\n",
    "os.chdir(\"C:\\Users\\Petar\\Documents\\GitHub\\ud120-projects\\\\final_project\")\n",
    "import sys\n",
    "import pickle\n",
    "import pandas\n",
    "import numpy as np\n",
    "sys.path.append(\"../tools/\")\n",
    "import sklearn\n",
    "from feature_format import featureFormat, targetFeatureSplit\n",
    "from tester import dump_classifier_and_data\n",
    "import matplotlib.pyplot as plt\n",
    "from sklearn.feature_selection import SelectKBest\n",
    "from sklearn.model_selection import GridSearchCV\n",
    "from time import time\n",
    "from sklearn.metrics import accuracy_score,precision_score,recall_score\n",
    "### Load the dictionary containing the dataset\n",
    "with open(\"final_project_dataset.pkl\", \"r\") as data_file:\n",
    "    data_dict = pickle.load(data_file)"
   ]
  },
  {
   "cell_type": "markdown",
   "metadata": {},
   "source": [
    "#### Selecting Features\n",
    "First we start with all the given features without the email because that string doesn't help towards building our classifier."
   ]
  },
  {
   "cell_type": "code",
   "execution_count": 6,
   "metadata": {},
   "outputs": [],
   "source": [
    "### features_list is a list of strings, each of which is a feature name.\n",
    "### The first feature must be \"poi\".\n",
    "financial_features = ['poi','salary', 'deferral_payments', 'total_payments', 'loan_advances', 'bonus', 'restricted_stock_deferred', 'deferred_income', 'total_stock_value', 'expenses', 'exercised_stock_options', 'other', 'long_term_incentive', 'restricted_stock', 'director_fees']\n",
    "email_features = ['to_messages', 'from_poi_to_this_person', 'from_messages', 'from_this_person_to_poi', 'shared_receipt_with_poi']\n",
    "features_list = financial_features + email_features"
   ]
  },
  {
   "cell_type": "markdown",
   "metadata": {},
   "source": [
    "To better understand and see how the data is structured i used Data Frames"
   ]
  },
  {
   "cell_type": "code",
   "execution_count": 7,
   "metadata": {},
   "outputs": [
    {
     "name": "stdout",
     "output_type": "stream",
     "text": [
      "     bonus deferral_payments deferred_income director_fees  \\\n",
      "0   600000               NaN             NaN           NaN   \n",
      "1  1200000           1295738        -1386055           NaN   \n",
      "2   350000               NaN         -400729           NaN   \n",
      "3      NaN               NaN             NaN           NaN   \n",
      "4  1500000               NaN        -3117011           NaN   \n",
      "\n",
      "              email_address exercised_stock_options expenses from_messages  \\\n",
      "0      mark.metts@enron.com                     NaN    94299            29   \n",
      "1                       NaN                 6680544    11200           NaN   \n",
      "2  steven.elliott@enron.com                 4890344    78552           NaN   \n",
      "3     bill.cordes@enron.com                  651850      NaN            12   \n",
      "4    kevin.hannon@enron.com                 5538001    34039            32   \n",
      "\n",
      "  from_poi_to_this_person from_this_person_to_poi        ...         \\\n",
      "0                      38                       1        ...          \n",
      "1                     NaN                     NaN        ...          \n",
      "2                     NaN                     NaN        ...          \n",
      "3                      10                       0        ...          \n",
      "4                      32                      21        ...          \n",
      "\n",
      "  long_term_incentive    other    poi  restricted_stock  \\\n",
      "0                 NaN     1740  False            585062   \n",
      "1             1586055  2660303  False           3942714   \n",
      "2                 NaN    12961  False           1788391   \n",
      "3                 NaN      NaN  False            386335   \n",
      "4             1617011    11350   True            853064   \n",
      "\n",
      "  restricted_stock_deferred  salary shared_receipt_with_poi to_messages  \\\n",
      "0                       NaN  365788                     702         807   \n",
      "1                       NaN  267102                     NaN         NaN   \n",
      "2                       NaN  170941                     NaN         NaN   \n",
      "3                       NaN     NaN                      58         764   \n",
      "4                       NaN  243293                    1035        1045   \n",
      "\n",
      "  total_payments total_stock_value  \n",
      "0        1061827            585062  \n",
      "1        5634343          10623258  \n",
      "2         211725           6678735  \n",
      "3            NaN           1038185  \n",
      "4         288682           6391065  \n",
      "\n",
      "[5 rows x 21 columns]\n"
     ]
    }
   ],
   "source": [
    "#Sort Data into DataFrames\n",
    "df = pandas.DataFrame.from_records(list(data_dict.values()))\n",
    "persons = pandas.Series(list(data_dict.keys()))\n",
    "print df.head()"
   ]
  },
  {
   "cell_type": "markdown",
   "metadata": {},
   "source": [
    "#### Statistics\n",
    "Before exploring anything else, we need to know the number of People POIs, Non-POIs and Features we have in the dataset"
   ]
  },
  {
   "cell_type": "code",
   "execution_count": 4,
   "metadata": {},
   "outputs": [
    {
     "name": "stdout",
     "output_type": "stream",
     "text": [
      "Number of people: 146\n",
      "Number of POIs: 18\n",
      "Number of Non-POIs: 128\n",
      "Number of features: 21\n"
     ]
    }
   ],
   "source": [
    "# statistics about the data set\n",
    "print 'Number of people:', df['poi'].count()\n",
    "print 'Number of POIs:', df.loc[df.poi == True, 'poi'].count()\n",
    "print 'Number of Non-POIs:', df.loc[df.poi == False, 'poi'].count()\n",
    "print 'Number of features:', df.shape[1]"
   ]
  },
  {
   "cell_type": "markdown",
   "metadata": {},
   "source": [
    "#### Removing features with no values\n",
    "\n",
    "Since this dataset isn't perfect, there are many features that have a lot of missing data.\n",
    "Below is a list of the number of missing data for each feature. I decided that if a feature is missing more than 65 points of data that it should be removed from my features list.\n"
   ]
  },
  {
   "cell_type": "code",
   "execution_count": 5,
   "metadata": {},
   "outputs": [
    {
     "name": "stdout",
     "output_type": "stream",
     "text": [
      "Missing data in each column \n",
      "bonus                         64\n",
      "deferral_payments            107\n",
      "deferred_income               97\n",
      "director_fees                129\n",
      "email_address                 35\n",
      "exercised_stock_options       44\n",
      "expenses                      51\n",
      "from_messages                 60\n",
      "from_poi_to_this_person       60\n",
      "from_this_person_to_poi       60\n",
      "loan_advances                142\n",
      "long_term_incentive           80\n",
      "other                         53\n",
      "poi                            0\n",
      "restricted_stock              36\n",
      "restricted_stock_deferred    128\n",
      "salary                        51\n",
      "shared_receipt_with_poi       60\n",
      "to_messages                   60\n",
      "total_payments                21\n",
      "total_stock_value             20\n",
      "dtype: int64\n",
      "\n",
      " Before Deleting ['poi', 'salary', 'deferral_payments', 'total_payments', 'loan_advances', 'bonus', 'restricted_stock_deferred', 'deferred_income', 'total_stock_value', 'expenses', 'exercised_stock_options', 'other', 'long_term_incentive', 'restricted_stock', 'director_fees', 'to_messages', 'from_poi_to_this_person', 'from_messages', 'from_this_person_to_poi', 'shared_receipt_with_poi'] \n",
      "\n",
      "Features after removing ['poi', 'salary', 'total_payments', 'bonus', 'total_stock_value', 'expenses', 'exercised_stock_options', 'other', 'restricted_stock', 'to_messages', 'from_poi_to_this_person', 'from_messages', 'from_this_person_to_poi', 'shared_receipt_with_poi']\n",
      "\n",
      " Total data points(names) 146\t\n",
      "Number  of features removed: 6 \t\n"
     ]
    }
   ],
   "source": [
    "#The counts of NaNs in each column\n",
    "df = df.replace('NaN', np.nan)\n",
    "print 'Missing data in each column \\n',df.isnull().sum()\n",
    "print \"\\n Before Deleting\",features_list,'\\n'\n",
    "count = 0\n",
    "for column, series in df.iteritems():\n",
    "    if series.isnull().sum() > 65:\n",
    "        count+=1\n",
    "        df.drop(column, axis=1, inplace=True)\n",
    "        for item in features_list:\n",
    "            if item == column:\n",
    "                features_list.remove(item)\n",
    "print \"Features after removing\",features_list\n",
    "data_points = len(data_dict)\n",
    "print '\\n Total data points(names) {}\\t'.format(data_points)\n",
    "print 'Number  of features removed: {} \\t'.format(count)\n"
   ]
  },
  {
   "cell_type": "markdown",
   "metadata": {},
   "source": [
    "#### Visualisation\n",
    "\n",
    "For better visualising the data i made functions that would plot every feature "
   ]
  },
  {
   "cell_type": "code",
   "execution_count": 8,
   "metadata": {},
   "outputs": [],
   "source": [
    "def plot_outliers(data,a,b,a_name,b_name,pos):\n",
    "    plt.subplot(4,4,pos)\n",
    "    f1 = []\n",
    "    f2 = []\n",
    "    y = []\n",
    "    for point in data:\n",
    "        f1.append(point[a])\n",
    "        f2.append(point[b])\n",
    "        c = 'red' if point[0]==True else 'blue'\n",
    "        y.append(c)\n",
    "    plt.scatter(f1, f2, c=y)   \n",
    "    frame = plt.gca()\n",
    "    frame.axes.get_xaxis().set_ticks([])\n",
    "    frame.axes.get_yaxis().set_ticks([])\n",
    "    plt.xlabel(a_name)\n",
    "    plt.ylabel(b_name)\n",
    "def visualize_outliers():\n",
    "    financial_outliers = featureFormat(data_dict, financial_features)\n",
    "    email_outliers = featureFormat(data_dict, email_features)\n",
    "    counter = 1\n",
    "    for i in range(2, len(financial_features)):\n",
    "        plot_outliers(financial_outliers, 1, i, 'salary', financial_features[i], counter)\n",
    "        counter += 1\n",
    "    plt.show()\n",
    "    counter = 1\n",
    "    for i in range(2, len(email_features)):\n",
    "        plot_outliers(email_outliers, 1, i, 'to_messages', email_features[i], counter)\n",
    "        counter += 1\n",
    "    plt.show()\n"
   ]
  },
  {
   "cell_type": "markdown",
   "metadata": {},
   "source": [
    "#### Removing outlier\n"
   ]
  },
  {
   "cell_type": "code",
   "execution_count": 9,
   "metadata": {},
   "outputs": [],
   "source": [
    "def removeMaxSalary():\n",
    "    maxSalary = 1\n",
    "    person_remove = None\n",
    "    for person in data_dict:\n",
    "        if data_dict[person]['salary'] != 'NaN' and data_dict[person]['salary'] > maxSalary:\n",
    "            maxSalary  = data_dict[person]['salary']\n",
    "            person_remove = person\n",
    "    data_dict.pop(person_remove)\n",
    "    print \"Removed {} with salary {}\".format(person_remove,maxSalary)"
   ]
  },
  {
   "cell_type": "code",
   "execution_count": 10,
   "metadata": {},
   "outputs": [
    {
     "data": {
      "image/png": "[encoded data removed]",
      "text/plain": [
       "<matplotlib.figure.Figure at 0x10813610>"
      ]
     },
     "metadata": {},
     "output_type": "display_data"
    },
    {
     "data": {
      "image/png": "[encoded data removed]",
      "text/plain": [
       "<matplotlib.figure.Figure at 0x10d11770>"
      ]
     },
     "metadata": {},
     "output_type": "display_data"
    },
    {
     "name": "stdout",
     "output_type": "stream",
     "text": [
      "Removed TOTAL with salary 26704229\n"
     ]
    },
    {
     "data": {
      "image/png": "[encoded data removed]",
      "text/plain": [
       "<matplotlib.figure.Figure at 0x10e0d930>"
      ]
     },
     "metadata": {},
     "output_type": "display_data"
    },
    {
     "data": {
      "image/png": "[encoded data removed]",
      "text/plain": [
       "<matplotlib.figure.Figure at 0x10e263d0>"
      ]
     },
     "metadata": {},
     "output_type": "display_data"
    }
   ],
   "source": [
    "#plotting before removing outlier\n",
    "visualize_outliers()\n",
    "#removing outlier from salary\n",
    "removeMaxSalary()\n",
    "#plotting after removing outlier\n",
    "visualize_outliers()"
   ]
  },
  {
   "cell_type": "markdown",
   "metadata": {},
   "source": [
    "As the plots show, there is one outlier that interferes with the data in all financial features.\n",
    "After calling the  removeMaxSalary() function, we see that the outlier is removed.\n",
    "The dataset contained a TOTAL value which was of no use in our goal to find POIs"
   ]
  },
  {
   "cell_type": "markdown",
   "metadata": {},
   "source": [
    "##### Creating new features\n",
    "\n",
    "Some of the features have redundant information.\n",
    "For example 'to_messages', 'from_poi_to_this_person', 'from_messages', 'from_this_person_to_poi', dont give much information about the POI.\n",
    "\n",
    "Thats why finding the fraction of sent and recieved messages to/from POI might give us better results when classifying the data."
   ]
  },
  {
   "cell_type": "code",
   "execution_count": 11,
   "metadata": {},
   "outputs": [],
   "source": [
    "def fraction_email(old,fraction):\n",
    "    new_list=[]\n",
    "\n",
    "    for data in data_dict:\n",
    "        if data_dict[data][old]==\"NaN\" or data_dict[data][fraction]==\"NaN\":\n",
    "            new_list.append(0.)\n",
    "        elif data_dict[data][old]>=0:\n",
    "            new_list.append(float(data_dict[data][old])/float(data_dict[data][fraction]))\n",
    "    return new_list\n",
    "\n",
    "### create two lists of new features\n",
    "fraction_from_poi_email=fraction_email(\"from_poi_to_this_person\",\"to_messages\")\n",
    "fraction_to_poi_email=fraction_email(\"from_this_person_to_poi\",\"from_messages\")\n",
    "\n",
    "### insert new features into data_dict\n",
    "count=0\n",
    "for data in data_dict:\n",
    "    data_dict[data][\"fraction_from_poi_email\"]=fraction_from_poi_email[count]\n",
    "    data_dict[data][\"fraction_to_poi_email\"]=fraction_to_poi_email[count]\n",
    "    count +=1\n",
    "features_list.remove('from_this_person_to_poi')\n",
    "features_list.remove('from_poi_to_this_person')\n",
    "features_list.append('fraction_to_poi_email') \n",
    "features_list.append('fraction_from_poi_email')\n",
    "features_list.remove('from_messages')\n",
    "features_list.remove('to_messages')\n"
   ]
  },
  {
   "cell_type": "markdown",
   "metadata": {},
   "source": [
    "Now we have the following features:"
   ]
  },
  {
   "cell_type": "code",
   "execution_count": 13,
   "metadata": {},
   "outputs": [
    {
     "name": "stdout",
     "output_type": "stream",
     "text": [
      "['poi', 'salary', 'deferral_payments', 'total_payments', 'loan_advances', 'bonus', 'restricted_stock_deferred', 'deferred_income', 'total_stock_value', 'expenses', 'exercised_stock_options', 'other', 'long_term_incentive', 'restricted_stock', 'director_fees', 'shared_receipt_with_poi', 'fraction_to_poi_email', 'fraction_from_poi_email']\n",
      "Number of features:\t18\n"
     ]
    }
   ],
   "source": [
    "print features_list\n",
    "print \"Number of features:\\t\",len(features_list)"
   ]
  },
  {
   "cell_type": "markdown",
   "metadata": {},
   "source": [
    "In order to find the most effective features for classification, feature selection using “Decision Tree” was deployed to rank the features.\n"
   ]
  },
  {
   "cell_type": "code",
   "execution_count": 14,
   "metadata": {},
   "outputs": [
    {
     "name": "stdout",
     "output_type": "stream",
     "text": [
      "Feature Ranking: \n",
      "1 feature salary (0.220426513942)\n",
      "2 feature deferral_payments (0.21197488041)\n",
      "3 feature total_payments (0.168173897756)\n",
      "4 feature loan_advances (0.132625994695)\n",
      "5 feature bonus (0.105863661155)\n",
      "6 feature restricted_stock_deferred (0.0736811081639)\n",
      "7 feature deferred_income (0.0589448865311)\n",
      "8 feature total_stock_value (0.0283090573472)\n",
      "9 feature expenses (0.0)\n",
      "10 feature exercised_stock_options (0.0)\n",
      "11 feature other (0.0)\n"
     ]
    }
   ],
   "source": [
    "### Store to my_dataset for easy export below.\n",
    "my_dataset = data_dict\n",
    "### Extract features and labels from dataset for local testing\n",
    "data = featureFormat(my_dataset, features_list, sort_keys = True)\n",
    "\n",
    "labels, features = targetFeatureSplit(data)\n",
    "\n",
    "from sklearn.cross_validation import train_test_split\n",
    "features_train, features_test, labels_train, labels_test = train_test_split(features, labels, test_size=0.3, random_state=42)\n",
    "\n",
    "from sklearn.tree import DecisionTreeClassifier\n",
    "clf = DecisionTreeClassifier()\n",
    "clf.fit(features_train,labels_train)\n",
    "score = clf.score(features_test,labels_test)\n",
    "pred= clf.predict(features_test)\n",
    "importances = clf.feature_importances_\n",
    "import numpy as np\n",
    "indices = np.argsort(importances)[::-1]\n",
    "print 'Feature Ranking: '\n",
    "for i in range(11):\n",
    "    print \"{} feature {} ({})\".format(i+1,features_list[i+1],importances[indices[i]])"
   ]
  },
  {
   "cell_type": "markdown",
   "metadata": {},
   "source": [
    "From the list above we see that expenses, exercised_stock_options and 'other' features dont give us very good results, so i can remove them from our features list."
   ]
  },
  {
   "cell_type": "code",
   "execution_count": 15,
   "metadata": {},
   "outputs": [],
   "source": [
    "features_list.remove('other')\n",
    "features_list.remove('expenses')\n",
    "features_list.remove('restricted_stock')"
   ]
  },
  {
   "cell_type": "markdown",
   "metadata": {},
   "source": [
    "After removing these features, the feature_list is ready to be used for trying out classifiers."
   ]
  },
  {
   "cell_type": "markdown",
   "metadata": {},
   "source": [
    "This process was validated using 5-fold cross-validation, precision and recall scores"
   ]
  },
  {
   "cell_type": "code",
   "execution_count": 44,
   "metadata": {},
   "outputs": [],
   "source": [
    "data = featureFormat(my_dataset, features_list, sort_keys = True)\n",
    "labels, features = targetFeatureSplit(data)\n",
    "from sklearn.cross_validation import train_test_split\n",
    "features_train, features_test, labels_train, labels_test = train_test_split(features, labels, test_size=0.3, random_state=42)\n",
    "\n"
   ]
  },
  {
   "cell_type": "markdown",
   "metadata": {},
   "source": [
    "#### Trying out classifiers with parameteres\n",
    "\n",
    "Using GridSearchCV I tried fitting the parameters on DecisionTreeClassifier,RandomForestClassifier and AdaBoostClassifier. The dataset was also tested on NaiveBayes algorithm.\n",
    "The tests showed that tuning the parameters on AdaBoostClassifier gives the best score for finding the POI."
   ]
  },
  {
   "cell_type": "code",
   "execution_count": 53,
   "metadata": {},
   "outputs": [
    {
     "name": "stdout",
     "output_type": "stream",
     "text": [
      "training time: 0.055 s\n",
      "training time: 0.001 s\n",
      "DecisionTree accuracy 0.863636363636\n",
      "DecisionTree best params: {'min_samples_split': 9}\n",
      "Precision score: 0.4\n",
      "Recall score 0.4\n"
     ]
    }
   ],
   "source": [
    "#decisionTree\n",
    "from sklearn.tree import DecisionTreeClassifier\n",
    "parameters = {'min_samples_split':[2,3,4,5,6,7,8,9]}\n",
    "cltree = DecisionTreeClassifier()\n",
    "clf = GridSearchCV(cltree, parameters)\n",
    "t0 = time()\n",
    "clf.fit(features_train,labels_train)\n",
    "print \"training time:\", round(time()-t0, 3), \"s\"\n",
    "t1 = time()\n",
    "pred = clf.predict(features_test)\n",
    "print \"training time:\", round(time()-t1, 3), \"s\"\n",
    "print  \"DecisionTree accuracy\",accuracy_score(pred,labels_test)\n",
    "print \"DecisionTree best params:\",clf.best_params_\n",
    "print \"Precision score:\",precision_score(labels_test,pred)\n",
    "print \"Recall score\",recall_score(labels_test,pred)"
   ]
  },
  {
   "cell_type": "code",
   "execution_count": 55,
   "metadata": {},
   "outputs": [
    {
     "name": "stdout",
     "output_type": "stream",
     "text": [
      "0.886363636364\n",
      "NB algorithm time: 6.937 s\n",
      "Precision score: 0.5\n",
      "Recall score 0.6\n"
     ]
    }
   ],
   "source": [
    "#Gaussian Classifier\n",
    "from sklearn.naive_bayes import GaussianNB\n",
    "clf = GaussianNB()\n",
    "clf.fit(features_train, labels_train)\n",
    "pred = clf.predict(features_test)\n",
    "accuracy = accuracy_score(pred,labels_test)\n",
    "print accuracy\n",
    "print \"NB algorithm time:\", round(time()-t0, 3), \"s\"\n",
    "print \"Precision score:\",precision_score(labels_test,pred)\n",
    "print \"Recall score\",recall_score(labels_test,pred)"
   ]
  },
  {
   "cell_type": "code",
   "execution_count": 57,
   "metadata": {},
   "outputs": [
    {
     "name": "stdout",
     "output_type": "stream",
     "text": [
      "Adabooost classifier 0.931818181818\n",
      "adaboost best params: {'n_estimators': 11, 'criterion': 'entropy', 'max_depth': 9, 'min_samples_leaf': 1}\n",
      "Precision score: 1.0\n",
      "Recall score 0.4\n"
     ]
    }
   ],
   "source": [
    "#RandomForest\n",
    "from sklearn.ensemble import RandomForestClassifier, AdaBoostClassifier\n",
    "parameters = {\n",
    "    'criterion': ('gini', 'entropy'),\n",
    "    'min_samples_leaf':range(1, 52, 10),\n",
    "    'max_depth': range(1, 10,2),\n",
    "    'n_estimators': range(1,100,10)\n",
    "}\n",
    "rfc = RandomForestClassifier()\n",
    "clf = GridSearchCV(rfc, parameters)\n",
    "clf.fit(features_train,labels_train)\n",
    "pred = clf.predict(features_test)\n",
    "print  \"RandomForest classifier\",accuracy_score(pred,labels_test)\n",
    "print \"Random Forest best params:\",clf.best_params_\n",
    "print \"Precision score:\",precision_score(labels_test,pred)\n",
    "print \"Recall score\",recall_score(labels_test,pred)\n"
   ]
  },
  {
   "cell_type": "code",
   "execution_count": 1,
   "metadata": {},
   "outputs": [
    {
     "ename": "NameError",
     "evalue": "name 'AdaBoostClassifier' is not defined",
     "output_type": "error",
     "traceback": [
      "\u001b[1;31m---------------------------------------------------------------------------\u001b[0m",
      "\u001b[1;31mNameError\u001b[0m                                 Traceback (most recent call last)",
      "\u001b[1;32m<ipython-input-1-7240db2cb20e>\u001b[0m in \u001b[0;36m<module>\u001b[1;34m()\u001b[0m\n\u001b[0;32m      5\u001b[0m     \u001b[1;34m'n_estimators'\u001b[0m\u001b[1;33m:\u001b[0m \u001b[0mrange\u001b[0m\u001b[1;33m(\u001b[0m\u001b[1;36m1\u001b[0m\u001b[1;33m,\u001b[0m\u001b[1;36m100\u001b[0m\u001b[1;33m,\u001b[0m\u001b[1;36m10\u001b[0m\u001b[1;33m)\u001b[0m\u001b[1;33m\u001b[0m\u001b[0m\n\u001b[0;32m      6\u001b[0m }\n\u001b[1;32m----> 7\u001b[1;33m \u001b[0mrfc\u001b[0m \u001b[1;33m=\u001b[0m \u001b[0mAdaBoostClassifier\u001b[0m\u001b[1;33m(\u001b[0m\u001b[1;33m)\u001b[0m\u001b[1;33m\u001b[0m\u001b[0m\n\u001b[0m\u001b[0;32m      8\u001b[0m \u001b[0mclf\u001b[0m \u001b[1;33m=\u001b[0m \u001b[0mGridSearchCV\u001b[0m\u001b[1;33m(\u001b[0m\u001b[0mrfc\u001b[0m\u001b[1;33m,\u001b[0m \u001b[0mparameters\u001b[0m\u001b[1;33m)\u001b[0m\u001b[1;33m\u001b[0m\u001b[0m\n\u001b[0;32m      9\u001b[0m \u001b[0mclf\u001b[0m\u001b[1;33m.\u001b[0m\u001b[0mfit\u001b[0m\u001b[1;33m(\u001b[0m\u001b[0mfeatures_train\u001b[0m\u001b[1;33m,\u001b[0m\u001b[0mlabels_train\u001b[0m\u001b[1;33m)\u001b[0m\u001b[1;33m\u001b[0m\u001b[0m\n",
      "\u001b[1;31mNameError\u001b[0m: name 'AdaBoostClassifier' is not defined"
     ]
    }
   ],
   "source": [
    "parameters = {\n",
    "    'criterion': ('gini', 'entropy'),\n",
    "    'min_samples_leaf':range(1, 52, 10),\n",
    "    'max_depth': range(1, 10,2),\n",
    "    'n_estimators': range(1,100,10)\n",
    "}\n",
    "rfc = AdaBoostClassifier()\n",
    "clf = GridSearchCV(rfc, parameters)\n",
    "clf.fit(features_train,labels_train)\n",
    "pred = clf.predict(features_test)\n",
    "print  \"Adabooost classifier\",accuracy_score(pred,labels_test)\n",
    "print \"adaboost best params:\",clf.best_params_\n",
    "print \"Precision score:\",precision_score(labels_test,pred)\n",
    "print \"Recall score\",recall_score(labels_test,pred)"
   ]
  },
  {
   "cell_type": "markdown",
   "metadata": {},
   "source": [
    "### Best results - RandomForestClassifier"
   ]
  },
  {
   "cell_type": "code",
   "execution_count": 70,
   "metadata": {},
   "outputs": [
    {
     "name": "stdout",
     "output_type": "stream",
     "text": [
      "RandomForest classifier: 0.909090909091\n",
      "Precision score: 0.666666666667\n",
      "Recall score 0.4\n"
     ]
    }
   ],
   "source": [
    "clf = RandomForestClassifier(n_estimators= 11, criterion='entropy', max_depth= 9, min_samples_leaf= 1)\n",
    "clf.fit(features_train,labels_train)\n",
    "pred = clf.predict(features_test)\n",
    "print  \"RandomForest classifier:\",accuracy_score(pred,labels_test)\n",
    "print \"Precision score:\",precision_score(labels_test,pred)\n",
    "print \"Recall score\",recall_score(labels_test,pred)\n"
   ]
  },
  {
   "cell_type": "markdown",
   "metadata": {},
   "source": [
    "#### Conclusion\n",
    "\n",
    "The precision can be interpreted as the likelihood that a person who is identified as a POI is actually a true POI; the fact that this is 0.66 means that using this identifier to flag POI’s would result in 66% of the positive flags being false alarms. Recall measures how likely it is that identifier will flag a POI in the test set. 40% of the time it would catch that person, and 60% of the time it wouldn’t. This means the features we selected won't give us good results if we try to find POI's.\n",
    "    Another approach would be if we try to find patterns in the emails that POI's send."
   ]
  },
  {
   "cell_type": "code",
   "execution_count": null,
   "metadata": {},
   "outputs": [],
   "source": []
  }
 ],
 "metadata": {
  "kernelspec": {
   "display_name": "Python 2",
   "language": "python",
   "name": "python2"
  },
  "language_info": {
   "codemirror_mode": {
    "name": "ipython",
    "version": 2
   },
   "file_extension": ".py",
   "mimetype": "text/x-python",
   "name": "python",
   "nbconvert_exporter": "python",
   "pygments_lexer": "ipython2",
   "version": "2.7.14"
  }
 },
 "nbformat": 4,
 "nbformat_minor": 2
}
